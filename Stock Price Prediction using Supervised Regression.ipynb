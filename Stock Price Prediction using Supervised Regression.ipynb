{
 "cells": [
  {
   "cell_type": "code",
   "execution_count": 1,
   "id": "cd3e0a60",
   "metadata": {},
   "outputs": [],
   "source": [
    "import numpy as np\n",
    "import pandas as pd\n",
    "import matplotlib.pyplot as plt\n",
    "from sklearn import preprocessing, metrics\n",
    "from sklearn.model_selection import train_test_split\n",
    "from sklearn.linear_model import LinearRegression"
   ]
  },
  {
   "cell_type": "code",
   "execution_count": 2,
   "id": "d620de61",
   "metadata": {},
   "outputs": [
    {
     "data": {
      "text/html": [
       "<div>\n",
       "<style scoped>\n",
       "    .dataframe tbody tr th:only-of-type {\n",
       "        vertical-align: middle;\n",
       "    }\n",
       "\n",
       "    .dataframe tbody tr th {\n",
       "        vertical-align: top;\n",
       "    }\n",
       "\n",
       "    .dataframe thead th {\n",
       "        text-align: right;\n",
       "    }\n",
       "</style>\n",
       "<table border=\"1\" class=\"dataframe\">\n",
       "  <thead>\n",
       "    <tr style=\"text-align: right;\">\n",
       "      <th></th>\n",
       "      <th>Date</th>\n",
       "      <th>Open</th>\n",
       "      <th>High</th>\n",
       "      <th>Low</th>\n",
       "      <th>Close</th>\n",
       "      <th>Adj Close</th>\n",
       "      <th>Volume</th>\n",
       "    </tr>\n",
       "  </thead>\n",
       "  <tbody>\n",
       "    <tr>\n",
       "      <th>0</th>\n",
       "      <td>2010-06-30</td>\n",
       "      <td>5.158000</td>\n",
       "      <td>6.084000</td>\n",
       "      <td>4.660000</td>\n",
       "      <td>4.766000</td>\n",
       "      <td>4.766000</td>\n",
       "      <td>85935500</td>\n",
       "    </tr>\n",
       "    <tr>\n",
       "      <th>1</th>\n",
       "      <td>2010-07-01</td>\n",
       "      <td>5.000000</td>\n",
       "      <td>5.184000</td>\n",
       "      <td>4.054000</td>\n",
       "      <td>4.392000</td>\n",
       "      <td>4.392000</td>\n",
       "      <td>41094000</td>\n",
       "    </tr>\n",
       "    <tr>\n",
       "      <th>2</th>\n",
       "      <td>2010-07-02</td>\n",
       "      <td>4.600000</td>\n",
       "      <td>4.620000</td>\n",
       "      <td>3.742000</td>\n",
       "      <td>3.840000</td>\n",
       "      <td>3.840000</td>\n",
       "      <td>25699000</td>\n",
       "    </tr>\n",
       "    <tr>\n",
       "      <th>3</th>\n",
       "      <td>2010-07-06</td>\n",
       "      <td>4.000000</td>\n",
       "      <td>4.000000</td>\n",
       "      <td>3.166000</td>\n",
       "      <td>3.222000</td>\n",
       "      <td>3.222000</td>\n",
       "      <td>34334500</td>\n",
       "    </tr>\n",
       "    <tr>\n",
       "      <th>4</th>\n",
       "      <td>2010-07-07</td>\n",
       "      <td>3.280000</td>\n",
       "      <td>3.326000</td>\n",
       "      <td>2.996000</td>\n",
       "      <td>3.160000</td>\n",
       "      <td>3.160000</td>\n",
       "      <td>34608500</td>\n",
       "    </tr>\n",
       "    <tr>\n",
       "      <th>...</th>\n",
       "      <td>...</td>\n",
       "      <td>...</td>\n",
       "      <td>...</td>\n",
       "      <td>...</td>\n",
       "      <td>...</td>\n",
       "      <td>...</td>\n",
       "      <td>...</td>\n",
       "    </tr>\n",
       "    <tr>\n",
       "      <th>2574</th>\n",
       "      <td>2020-09-21</td>\n",
       "      <td>453.130005</td>\n",
       "      <td>455.679993</td>\n",
       "      <td>407.070007</td>\n",
       "      <td>449.390015</td>\n",
       "      <td>449.390015</td>\n",
       "      <td>109476800</td>\n",
       "    </tr>\n",
       "    <tr>\n",
       "      <th>2575</th>\n",
       "      <td>2020-09-22</td>\n",
       "      <td>429.600006</td>\n",
       "      <td>437.760010</td>\n",
       "      <td>417.600006</td>\n",
       "      <td>424.230011</td>\n",
       "      <td>424.230011</td>\n",
       "      <td>79580800</td>\n",
       "    </tr>\n",
       "    <tr>\n",
       "      <th>2576</th>\n",
       "      <td>2020-09-23</td>\n",
       "      <td>405.160004</td>\n",
       "      <td>412.149994</td>\n",
       "      <td>375.880005</td>\n",
       "      <td>380.359985</td>\n",
       "      <td>380.359985</td>\n",
       "      <td>95074200</td>\n",
       "    </tr>\n",
       "    <tr>\n",
       "      <th>2577</th>\n",
       "      <td>2020-09-24</td>\n",
       "      <td>363.799988</td>\n",
       "      <td>399.500000</td>\n",
       "      <td>351.299988</td>\n",
       "      <td>387.790009</td>\n",
       "      <td>387.790009</td>\n",
       "      <td>96561100</td>\n",
       "    </tr>\n",
       "    <tr>\n",
       "      <th>2578</th>\n",
       "      <td>2020-09-25</td>\n",
       "      <td>393.470001</td>\n",
       "      <td>408.730011</td>\n",
       "      <td>391.299988</td>\n",
       "      <td>407.339996</td>\n",
       "      <td>407.339996</td>\n",
       "      <td>67068400</td>\n",
       "    </tr>\n",
       "  </tbody>\n",
       "</table>\n",
       "<p>2579 rows × 7 columns</p>\n",
       "</div>"
      ],
      "text/plain": [
       "            Date        Open        High         Low       Close   Adj Close  \\\n",
       "0     2010-06-30    5.158000    6.084000    4.660000    4.766000    4.766000   \n",
       "1     2010-07-01    5.000000    5.184000    4.054000    4.392000    4.392000   \n",
       "2     2010-07-02    4.600000    4.620000    3.742000    3.840000    3.840000   \n",
       "3     2010-07-06    4.000000    4.000000    3.166000    3.222000    3.222000   \n",
       "4     2010-07-07    3.280000    3.326000    2.996000    3.160000    3.160000   \n",
       "...          ...         ...         ...         ...         ...         ...   \n",
       "2574  2020-09-21  453.130005  455.679993  407.070007  449.390015  449.390015   \n",
       "2575  2020-09-22  429.600006  437.760010  417.600006  424.230011  424.230011   \n",
       "2576  2020-09-23  405.160004  412.149994  375.880005  380.359985  380.359985   \n",
       "2577  2020-09-24  363.799988  399.500000  351.299988  387.790009  387.790009   \n",
       "2578  2020-09-25  393.470001  408.730011  391.299988  407.339996  407.339996   \n",
       "\n",
       "         Volume  \n",
       "0      85935500  \n",
       "1      41094000  \n",
       "2      25699000  \n",
       "3      34334500  \n",
       "4      34608500  \n",
       "...         ...  \n",
       "2574  109476800  \n",
       "2575   79580800  \n",
       "2576   95074200  \n",
       "2577   96561100  \n",
       "2578   67068400  \n",
       "\n",
       "[2579 rows x 7 columns]"
      ]
     },
     "execution_count": 2,
     "metadata": {},
     "output_type": "execute_result"
    }
   ],
   "source": [
    "df = pd.read_csv('TSLA.csv')\n",
    "df"
   ]
  },
  {
   "cell_type": "code",
   "execution_count": 3,
   "id": "93ba2b5d",
   "metadata": {},
   "outputs": [
    {
     "name": "stdout",
     "output_type": "stream",
     "text": [
      "<class 'pandas.core.frame.DataFrame'>\n",
      "RangeIndex: 2579 entries, 0 to 2578\n",
      "Data columns (total 7 columns):\n",
      " #   Column     Non-Null Count  Dtype  \n",
      "---  ------     --------------  -----  \n",
      " 0   Date       2579 non-null   object \n",
      " 1   Open       2579 non-null   float64\n",
      " 2   High       2579 non-null   float64\n",
      " 3   Low        2579 non-null   float64\n",
      " 4   Close      2579 non-null   float64\n",
      " 5   Adj Close  2579 non-null   float64\n",
      " 6   Volume     2579 non-null   int64  \n",
      "dtypes: float64(5), int64(1), object(1)\n",
      "memory usage: 141.2+ KB\n"
     ]
    }
   ],
   "source": [
    "df.info()"
   ]
  },
  {
   "cell_type": "code",
   "execution_count": 4,
   "id": "dc1d6634",
   "metadata": {},
   "outputs": [
    {
     "data": {
      "text/html": [
       "<div>\n",
       "<style scoped>\n",
       "    .dataframe tbody tr th:only-of-type {\n",
       "        vertical-align: middle;\n",
       "    }\n",
       "\n",
       "    .dataframe tbody tr th {\n",
       "        vertical-align: top;\n",
       "    }\n",
       "\n",
       "    .dataframe thead th {\n",
       "        text-align: right;\n",
       "    }\n",
       "</style>\n",
       "<table border=\"1\" class=\"dataframe\">\n",
       "  <thead>\n",
       "    <tr style=\"text-align: right;\">\n",
       "      <th></th>\n",
       "      <th>Open</th>\n",
       "      <th>High</th>\n",
       "      <th>Low</th>\n",
       "      <th>Close</th>\n",
       "      <th>Adj Close</th>\n",
       "      <th>Volume</th>\n",
       "    </tr>\n",
       "  </thead>\n",
       "  <tbody>\n",
       "    <tr>\n",
       "      <th>count</th>\n",
       "      <td>2579.000000</td>\n",
       "      <td>2579.000000</td>\n",
       "      <td>2579.000000</td>\n",
       "      <td>2579.000000</td>\n",
       "      <td>2579.000000</td>\n",
       "      <td>2.579000e+03</td>\n",
       "    </tr>\n",
       "    <tr>\n",
       "      <th>mean</th>\n",
       "      <td>49.206686</td>\n",
       "      <td>50.301806</td>\n",
       "      <td>48.073117</td>\n",
       "      <td>49.253279</td>\n",
       "      <td>49.253279</td>\n",
       "      <td>3.078217e+07</td>\n",
       "    </tr>\n",
       "    <tr>\n",
       "      <th>std</th>\n",
       "      <td>57.934102</td>\n",
       "      <td>59.888383</td>\n",
       "      <td>55.852349</td>\n",
       "      <td>58.119783</td>\n",
       "      <td>58.119783</td>\n",
       "      <td>2.855717e+07</td>\n",
       "    </tr>\n",
       "    <tr>\n",
       "      <th>min</th>\n",
       "      <td>3.228000</td>\n",
       "      <td>3.326000</td>\n",
       "      <td>2.996000</td>\n",
       "      <td>3.160000</td>\n",
       "      <td>3.160000</td>\n",
       "      <td>5.925000e+05</td>\n",
       "    </tr>\n",
       "    <tr>\n",
       "      <th>25%</th>\n",
       "      <td>7.159000</td>\n",
       "      <td>7.268000</td>\n",
       "      <td>6.989000</td>\n",
       "      <td>7.153000</td>\n",
       "      <td>7.153000</td>\n",
       "      <td>1.047400e+07</td>\n",
       "    </tr>\n",
       "    <tr>\n",
       "      <th>50%</th>\n",
       "      <td>44.001999</td>\n",
       "      <td>44.660000</td>\n",
       "      <td>43.301998</td>\n",
       "      <td>43.924000</td>\n",
       "      <td>43.924000</td>\n",
       "      <td>2.413100e+07</td>\n",
       "    </tr>\n",
       "    <tr>\n",
       "      <th>75%</th>\n",
       "      <td>59.339000</td>\n",
       "      <td>60.171000</td>\n",
       "      <td>57.841000</td>\n",
       "      <td>59.020000</td>\n",
       "      <td>59.020000</td>\n",
       "      <td>3.979150e+07</td>\n",
       "    </tr>\n",
       "    <tr>\n",
       "      <th>max</th>\n",
       "      <td>502.140015</td>\n",
       "      <td>502.489990</td>\n",
       "      <td>470.510010</td>\n",
       "      <td>498.320007</td>\n",
       "      <td>498.320007</td>\n",
       "      <td>3.046940e+08</td>\n",
       "    </tr>\n",
       "  </tbody>\n",
       "</table>\n",
       "</div>"
      ],
      "text/plain": [
       "              Open         High          Low        Close    Adj Close  \\\n",
       "count  2579.000000  2579.000000  2579.000000  2579.000000  2579.000000   \n",
       "mean     49.206686    50.301806    48.073117    49.253279    49.253279   \n",
       "std      57.934102    59.888383    55.852349    58.119783    58.119783   \n",
       "min       3.228000     3.326000     2.996000     3.160000     3.160000   \n",
       "25%       7.159000     7.268000     6.989000     7.153000     7.153000   \n",
       "50%      44.001999    44.660000    43.301998    43.924000    43.924000   \n",
       "75%      59.339000    60.171000    57.841000    59.020000    59.020000   \n",
       "max     502.140015   502.489990   470.510010   498.320007   498.320007   \n",
       "\n",
       "             Volume  \n",
       "count  2.579000e+03  \n",
       "mean   3.078217e+07  \n",
       "std    2.855717e+07  \n",
       "min    5.925000e+05  \n",
       "25%    1.047400e+07  \n",
       "50%    2.413100e+07  \n",
       "75%    3.979150e+07  \n",
       "max    3.046940e+08  "
      ]
     },
     "execution_count": 4,
     "metadata": {},
     "output_type": "execute_result"
    }
   ],
   "source": [
    "df.describe()"
   ]
  },
  {
   "cell_type": "code",
   "execution_count": 5,
   "id": "f3d71177",
   "metadata": {},
   "outputs": [
    {
     "data": {
      "text/plain": [
       "Date         0\n",
       "Open         0\n",
       "High         0\n",
       "Low          0\n",
       "Close        0\n",
       "Adj Close    0\n",
       "Volume       0\n",
       "dtype: int64"
      ]
     },
     "execution_count": 5,
     "metadata": {},
     "output_type": "execute_result"
    }
   ],
   "source": [
    "df.isnull().sum()"
   ]
  },
  {
   "cell_type": "code",
   "execution_count": 6,
   "id": "f796e52b",
   "metadata": {},
   "outputs": [],
   "source": [
    "X = df[['High', 'Low', 'Open', 'Volume']].values\n",
    "y = df['Close'].values"
   ]
  },
  {
   "cell_type": "code",
   "execution_count": 7,
   "id": "e7a62945",
   "metadata": {},
   "outputs": [
    {
     "data": {
      "text/plain": [
       "array([[6.08400000e+00, 4.66000000e+00, 5.15800000e+00, 8.59355000e+07],\n",
       "       [5.18400000e+00, 4.05400000e+00, 5.00000000e+00, 4.10940000e+07],\n",
       "       [4.62000000e+00, 3.74200000e+00, 4.60000000e+00, 2.56990000e+07],\n",
       "       ...,\n",
       "       [4.12149994e+02, 3.75880005e+02, 4.05160004e+02, 9.50742000e+07],\n",
       "       [3.99500000e+02, 3.51299988e+02, 3.63799988e+02, 9.65611000e+07],\n",
       "       [4.08730011e+02, 3.91299988e+02, 3.93470001e+02, 6.70684000e+07]])"
      ]
     },
     "execution_count": 7,
     "metadata": {},
     "output_type": "execute_result"
    }
   ],
   "source": [
    "X"
   ]
  },
  {
   "cell_type": "code",
   "execution_count": 8,
   "id": "a0c16455",
   "metadata": {},
   "outputs": [
    {
     "data": {
      "text/plain": [
       "array([  4.766   ,   4.392   ,   3.84    , ..., 380.359985, 387.790009,\n",
       "       407.339996])"
      ]
     },
     "execution_count": 8,
     "metadata": {},
     "output_type": "execute_result"
    }
   ],
   "source": [
    "y"
   ]
  },
  {
   "cell_type": "code",
   "execution_count": 9,
   "id": "74b95d21",
   "metadata": {},
   "outputs": [
    {
     "data": {
      "text/plain": [
       "((2063, 4), (2063,), (516, 4), (516,))"
      ]
     },
     "execution_count": 9,
     "metadata": {},
     "output_type": "execute_result"
    }
   ],
   "source": [
    "X_train, X_test, y_train, y_test = train_test_split(X, y, test_size=0.2, shuffle=True, random_state=42)\n",
    "X_train.shape, y_train.shape, X_test.shape, y_test.shape"
   ]
  },
  {
   "cell_type": "code",
   "execution_count": 10,
   "id": "8489dd08",
   "metadata": {},
   "outputs": [
    {
     "data": {
      "text/plain": [
       "LinearRegression()"
      ]
     },
     "execution_count": 10,
     "metadata": {},
     "output_type": "execute_result"
    }
   ],
   "source": [
    "linear_regression = LinearRegression()\n",
    "linear_regression.fit(X_train, y_train)"
   ]
  },
  {
   "cell_type": "code",
   "execution_count": 11,
   "id": "cee2553b",
   "metadata": {},
   "outputs": [
    {
     "name": "stdout",
     "output_type": "stream",
     "text": [
      "Coefficient:  [ 8.90151284e-01  5.80056026e-01 -4.74258801e-01 -7.61635557e-09]\n",
      "Intercept:  0.1656048785623767\n"
     ]
    }
   ],
   "source": [
    "print('Coefficient: ', linear_regression.coef_)\n",
    "print('Intercept: ', linear_regression.intercept_)"
   ]
  },
  {
   "cell_type": "code",
   "execution_count": 12,
   "id": "7768e1e2",
   "metadata": {},
   "outputs": [],
   "source": [
    "pred = linear_regression.predict(X_test)"
   ]
  },
  {
   "cell_type": "code",
   "execution_count": 13,
   "id": "e985f591",
   "metadata": {},
   "outputs": [
    {
     "data": {
      "text/plain": [
       "array([ 33.2335902 ,  64.35191499,  24.22277799,   4.90810513,\n",
       "        40.46756982, 350.03330434, 163.91929332,  51.5497623 ,\n",
       "        41.73388679,  62.14690985,  89.21972538,  56.11086109,\n",
       "        74.31677529,  44.39107148,  43.91630071,   5.79981939,\n",
       "         4.6882713 ,  54.09828385,  50.92143113,  44.8789939 ,\n",
       "         6.56497431,  43.54299597, 130.83410177,   8.26636152,\n",
       "        41.29081457, 299.57437878,   4.28430263,   4.30866839,\n",
       "        38.05783253,  35.70378336,  20.19939528,  46.75428525,\n",
       "        61.75203342,  39.00734557,   4.62629252,  23.58516278,\n",
       "         6.93691359,  46.35989729,   4.24303231,  39.89575619,\n",
       "         5.62095306,   7.14166682,   4.92160558,  59.62482314,\n",
       "        63.76199375,  43.79477216,  66.85837776,  44.6666087 ,\n",
       "         7.76351489,  62.91421593,   8.04218617,  43.10999804,\n",
       "        39.12517095,  54.41039071,  45.95834173,   5.45290506,\n",
       "        45.87136289, 300.03536996,  49.06103665,  63.08020353,\n",
       "        97.1145266 ,  74.69144298,   4.26966592,   6.40683857,\n",
       "        58.47706946,  66.0661316 ,  69.06232379,   6.72161406,\n",
       "        72.92797069,  27.62258637,  39.4757283 ,  44.62051327,\n",
       "        50.54498012,  49.56645754,   7.64604796,  37.75973243,\n",
       "       152.52857269,  23.58936407,  29.82482916,  70.63518325,\n",
       "        45.88279255,  46.28533998,  39.55661082,  51.32205382,\n",
       "        58.20795171,  44.52890992,  62.56682286,   6.1833675 ,\n",
       "         6.58514194,  45.74744492,   5.45838372,   5.44716142,\n",
       "         4.05887641,  51.31862217,  44.71114875, 101.19145397,\n",
       "        36.48458949,   6.57933944,  39.31795504,  43.33036203,\n",
       "       148.56840751,  39.23985889,  37.90464741,  64.0939037 ,\n",
       "        48.07565715,   5.0238535 ,  70.92274643,  72.01642707,\n",
       "        43.93002335,  55.75961502,  49.98245973,  52.43352226,\n",
       "        41.04822012,  29.84718459,  62.61352934,  38.30058874,\n",
       "        45.70586328,  20.46419077,  68.50609965,   5.57279471,\n",
       "        52.37417437,  39.05089314,  46.66328515,   7.14302526,\n",
       "         5.65424277,  45.1776492 ,  68.07045893,   6.2802622 ,\n",
       "        63.20814234,   5.35818145,  66.48428827,  40.03065536,\n",
       "        47.90834327,  30.27129243,  24.6968796 ,  53.03551316,\n",
       "        37.94167332, 187.05852998,  62.68254222,  59.84857258,\n",
       "        34.13496871,  56.41433096,  61.07989722,  51.13224116,\n",
       "        47.91563355,  60.91930767,   5.85272079,   7.56554144,\n",
       "        40.27445879,  17.34293368,  62.73415908,   5.80252046,\n",
       "        43.52995998,   7.12681689,   5.82010814,  45.68041216,\n",
       "         5.5450901 , 162.56191823,  43.33988335, 275.64715142,\n",
       "        43.77986086,  51.14865403,  66.5120474 ,   4.89213813,\n",
       "         7.96789273,   6.41831885,  43.87336442,  51.68809949,\n",
       "        52.37030151,   5.00684503,   5.74275109,   5.83758467,\n",
       "        28.08585023,  44.67803147,  70.48842802,  60.45487263,\n",
       "        45.9532991 ,  66.05759556, 114.13325732,  40.24027396,\n",
       "       164.08409346,  49.76289728,  45.46085779,  50.76749943,\n",
       "        46.34792113,  70.8861662 ,   5.2220612 ,   5.70678826,\n",
       "        57.21549394,   4.92144778,  46.47878189,  43.03128126,\n",
       "        44.55623898, 169.11996887,  55.85883704,  50.19045637,\n",
       "        80.64008729,  70.95075437,  50.66014319,  45.13314743,\n",
       "        48.4192492 ,  48.01292008,  43.08131427,  44.14631583,\n",
       "         6.47795511,   5.60632169, 386.28392816,  52.4162021 ,\n",
       "        32.97177557,  10.48446422,  44.11104846,   4.26947378,\n",
       "         5.95019921,  62.07580884,  49.75455997,  67.91021901,\n",
       "        44.05597055,  41.36982027,  55.44982983,   5.13843307,\n",
       "        50.71942179,  46.27764218,  65.34698497,  46.11050379,\n",
       "         5.48430642,  45.5872564 ,  50.58556623,   5.67055491,\n",
       "        67.29651583,  43.81014283,   6.76116571, 290.92921587,\n",
       "        65.95579953,  75.29152762,   4.79417307,   6.94512462,\n",
       "        34.05918985,   5.61540944,  69.79745931,  50.58619858,\n",
       "        49.22306798,   5.91551437,  29.54049241,   5.98652641,\n",
       "        45.73263425,  39.71626589,  45.60058748,  47.71994348,\n",
       "        48.56863451,   5.50808069,  47.44404117,  43.23980211,\n",
       "        39.78799404,  42.6939545 ,  35.73088875, 162.32097223,\n",
       "        70.94513413,   6.98908593,   5.73174072,  49.59161057,\n",
       "        56.44550102,  50.74359035,  45.76686837,  71.88850725,\n",
       "         5.76217166,   6.56947527,   5.73519695,  62.54438063,\n",
       "        45.90907639,  37.83645532,   6.05545139,  56.19966392,\n",
       "        51.65540629,  68.4607263 ,  60.03666331,  25.46675587,\n",
       "         7.55951623,  53.31206728, 151.11503369,  66.26106477,\n",
       "        59.67155759,  29.52689319,  57.16772557,  85.45822146,\n",
       "       108.18929468,   6.25195907,  41.09535304,  45.35641661,\n",
       "        23.74536038,   3.65510549,   6.99223091,  23.63019205,\n",
       "        66.04651505,  43.94951599,   6.08848926,  74.51856736,\n",
       "        55.73608508,   7.58331593,  39.84111083,  38.89662201,\n",
       "        73.77904879,   6.62607569,  19.05036141,   5.62972604,\n",
       "         6.40796305,  44.54270292,  44.86832173,   7.2576816 ,\n",
       "        39.68376514,   5.84199647,  70.40351311,  65.36180875,\n",
       "       164.95703574,  56.57480896,  47.15977615,  50.46694428,\n",
       "        59.95100544,  33.21917335,  55.33163197,   7.16479407,\n",
       "        27.98429036,  53.4965966 ,   6.79054009,  56.0455924 ,\n",
       "        38.65267864,  40.68418811,   5.89207343,  42.04068471,\n",
       "        62.72115161,  29.89138137,   6.93193649,   6.93454094,\n",
       "        70.0016387 ,  25.60646519,  39.11702129,   6.29140466,\n",
       "        52.30789642,  59.51446913,   5.83330514,   5.73980147,\n",
       "        68.36026183,  58.69183237, 295.72060218,   4.7242471 ,\n",
       "        42.78221285,  36.98426394,  69.25044883,  36.64807431,\n",
       "        51.26483741,  41.32949284,  36.38739727, 105.78718849,\n",
       "        72.74132119,   4.85726972,   4.74750488,   6.85405972,\n",
       "        44.90888242,  63.37771598,   6.17063011, 143.32866289,\n",
       "        28.25669844,  44.0069416 ,   5.77152218,  66.21187221,\n",
       "         6.85046149,  43.25931859,  60.8845309 ,   5.68657715,\n",
       "        50.96460003, 103.07748361,  59.53887061, 239.81320274,\n",
       "        58.97365235,   6.68102839,   8.97389968,  19.63043366,\n",
       "         3.79446272,  51.07366976,  80.21961166,  48.70979618,\n",
       "        66.70764989,  39.71589608,  55.30699689,  38.65557255,\n",
       "         4.82565421,  61.66616691,  42.46844009,  41.40299645,\n",
       "         6.94361198,  40.27370362,   5.69487333,   7.06569277,\n",
       "         6.74444575,  40.37356718,  35.36825391,  41.10716876,\n",
       "        31.14766824,   6.42677807, 302.25100359,   5.53356947,\n",
       "       288.75072242,  68.15163677,   6.16262689,  35.00224389,\n",
       "         6.85727016,  45.31188771,  48.85738718,  44.86794904,\n",
       "         4.38834216,   6.43884342,   5.67674822,  61.6981498 ,\n",
       "        45.42118714,   5.18767937,   5.86299738,  41.60724361,\n",
       "        50.09376534,  66.64537596,  38.7812882 ,  36.27018978,\n",
       "        55.4970048 ,   5.23315101,  61.98481465,  45.64923093,\n",
       "        42.13614508,  38.29330158,   4.24334706, 159.37081964,\n",
       "         7.07751166,   5.62293592, 298.16124177,  47.76592775,\n",
       "        57.85954867,  34.4805953 , 154.99521193,   6.04303532,\n",
       "        56.54184889,  61.89072126,   6.88066032,  29.06290623,\n",
       "         5.94378839,  43.89244289,  46.41301781,  71.4939559 ,\n",
       "         6.85251582,  44.93455521,  39.67366564,   4.90611122,\n",
       "         5.31080146,  29.79303633,   6.02756937,  37.50047368,\n",
       "        45.97659424,  52.96981797,   5.49228331,  63.85270095,\n",
       "        64.74432237,  54.91884573,  50.0472696 ,  69.37565459,\n",
       "         6.05744856,   6.24112498,  51.96449424,   7.69439618,\n",
       "         4.23333812,  64.41648949,  65.62686815,  61.61094407,\n",
       "        31.21643385,  51.65460424,   7.94518017,  45.22561606,\n",
       "        32.95216461,  62.81497798,  40.60954076,   4.96639633,\n",
       "         6.96520752,  53.1415242 ,  58.57006725,  52.69919792,\n",
       "        40.97809486,   5.93736007,   6.42227099,  58.66924651,\n",
       "        42.99871831, 270.44911645,  67.63500837,   7.51644002,\n",
       "         6.16834482,   6.56322568,   4.53819292,   6.2485942 ,\n",
       "       177.34824708,   6.98846932,  57.07353522,   4.8290826 ,\n",
       "        47.42403609,  68.37320676,   6.19968676,   6.27275617,\n",
       "         4.30720029,   4.37272629,  37.70560959,  50.86065263,\n",
       "        49.48049188,   4.31454944,  68.16293509,  47.62214489,\n",
       "        28.81165297, 448.12689212,   5.14897121,  55.35765906,\n",
       "        45.44730534,  44.83905096,   4.25475395,  67.39888948])"
      ]
     },
     "execution_count": 13,
     "metadata": {},
     "output_type": "execute_result"
    }
   ],
   "source": [
    "pred"
   ]
  },
  {
   "cell_type": "code",
   "execution_count": 14,
   "id": "9ec973d1",
   "metadata": {},
   "outputs": [
    {
     "data": {
      "text/html": [
       "<div>\n",
       "<style scoped>\n",
       "    .dataframe tbody tr th:only-of-type {\n",
       "        vertical-align: middle;\n",
       "    }\n",
       "\n",
       "    .dataframe tbody tr th {\n",
       "        vertical-align: top;\n",
       "    }\n",
       "\n",
       "    .dataframe thead th {\n",
       "        text-align: right;\n",
       "    }\n",
       "</style>\n",
       "<table border=\"1\" class=\"dataframe\">\n",
       "  <thead>\n",
       "    <tr style=\"text-align: right;\">\n",
       "      <th></th>\n",
       "      <th>Actual</th>\n",
       "      <th>Predicted</th>\n",
       "    </tr>\n",
       "  </thead>\n",
       "  <tbody>\n",
       "    <tr>\n",
       "      <th>0</th>\n",
       "      <td>33.245998</td>\n",
       "      <td>33.233590</td>\n",
       "    </tr>\n",
       "    <tr>\n",
       "      <th>1</th>\n",
       "      <td>65.316002</td>\n",
       "      <td>64.351915</td>\n",
       "    </tr>\n",
       "    <tr>\n",
       "      <th>2</th>\n",
       "      <td>24.454000</td>\n",
       "      <td>24.222778</td>\n",
       "    </tr>\n",
       "    <tr>\n",
       "      <th>3</th>\n",
       "      <td>4.746000</td>\n",
       "      <td>4.908105</td>\n",
       "    </tr>\n",
       "    <tr>\n",
       "      <th>4</th>\n",
       "      <td>39.970001</td>\n",
       "      <td>40.467570</td>\n",
       "    </tr>\n",
       "    <tr>\n",
       "      <th>...</th>\n",
       "      <td>...</td>\n",
       "      <td>...</td>\n",
       "    </tr>\n",
       "    <tr>\n",
       "      <th>511</th>\n",
       "      <td>56.220001</td>\n",
       "      <td>55.357659</td>\n",
       "    </tr>\n",
       "    <tr>\n",
       "      <th>512</th>\n",
       "      <td>45.784000</td>\n",
       "      <td>45.447305</td>\n",
       "    </tr>\n",
       "    <tr>\n",
       "      <th>513</th>\n",
       "      <td>44.532001</td>\n",
       "      <td>44.839051</td>\n",
       "    </tr>\n",
       "    <tr>\n",
       "      <th>514</th>\n",
       "      <td>4.090000</td>\n",
       "      <td>4.254754</td>\n",
       "    </tr>\n",
       "    <tr>\n",
       "      <th>515</th>\n",
       "      <td>67.463997</td>\n",
       "      <td>67.398889</td>\n",
       "    </tr>\n",
       "  </tbody>\n",
       "</table>\n",
       "<p>516 rows × 2 columns</p>\n",
       "</div>"
      ],
      "text/plain": [
       "        Actual  Predicted\n",
       "0    33.245998  33.233590\n",
       "1    65.316002  64.351915\n",
       "2    24.454000  24.222778\n",
       "3     4.746000   4.908105\n",
       "4    39.970001  40.467570\n",
       "..         ...        ...\n",
       "511  56.220001  55.357659\n",
       "512  45.784000  45.447305\n",
       "513  44.532001  44.839051\n",
       "514   4.090000   4.254754\n",
       "515  67.463997  67.398889\n",
       "\n",
       "[516 rows x 2 columns]"
      ]
     },
     "execution_count": 14,
     "metadata": {},
     "output_type": "execute_result"
    }
   ],
   "source": [
    "data = pd.DataFrame({'Actual': y_test.flatten(), 'Predicted': pred.flatten()})\n",
    "data"
   ]
  },
  {
   "cell_type": "code",
   "execution_count": 15,
   "id": "3115aec6",
   "metadata": {},
   "outputs": [
    {
     "name": "stdout",
     "output_type": "stream",
     "text": [
      "Mean Absolute Error:  0.4987911681378196\n",
      "Mean Squared Error:  1.7512491364665428\n",
      "Root Mean Squared Error:  1.3233477005181\n"
     ]
    }
   ],
   "source": [
    "print('Mean Absolute Error: ', metrics.mean_absolute_error(y_test, pred))\n",
    "print('Mean Squared Error: ', metrics.mean_squared_error(y_test, pred))\n",
    "print('Root Mean Squared Error: ', np.sqrt(metrics.mean_squared_error(y_test, pred)))"
   ]
  },
  {
   "cell_type": "code",
   "execution_count": 16,
   "id": "2dfbb0d6",
   "metadata": {},
   "outputs": [
    {
     "data": {
      "text/plain": [
       "<AxesSubplot:>"
      ]
     },
     "execution_count": 16,
     "metadata": {},
     "output_type": "execute_result"
    },
    {
     "data": {
      "image/png": "[encoded data removed]",
      "text/plain": [
       "<Figure size 432x288 with 1 Axes>"
      ]
     },
     "metadata": {
      "needs_background": "light"
     },
     "output_type": "display_data"
    }
   ],
   "source": [
    "graph_data = data.head(20)\n",
    "graph_data.plot(kind='bar')"
   ]
  },
  {
   "cell_type": "code",
   "execution_count": 17,
   "id": "f85b01b2",
   "metadata": {},
   "outputs": [
    {
     "data": {
      "image/png": "[encoded data removed]",
      "text/plain": [
       "<Figure size 1152x576 with 1 Axes>"
      ]
     },
     "metadata": {
      "needs_background": "light"
     },
     "output_type": "display_data"
    }
   ],
   "source": [
    "plt.figure(figsize=(16,8))\n",
    "plt.plot(data['Actual'], label = \"Actual\")\n",
    "plt.plot(data['Predicted'], label = \"Predicted\")\n",
    "plt.legend()\n",
    "plt.show()"
   ]
  },
  {
   "cell_type": "code",
   "execution_count": null,
   "id": "3fa0a903",
   "metadata": {},
   "outputs": [],
   "source": []
  }
 ],
 "metadata": {
  "kernelspec": {
   "display_name": "Python 3",
   "language": "python",
   "name": "python3"
  },
  "language_info": {
   "codemirror_mode": {
    "name": "ipython",
    "version": 3
   },
   "file_extension": ".py",
   "mimetype": "text/x-python",
   "name": "python",
   "nbconvert_exporter": "python",
   "pygments_lexer": "ipython3",
   "version": "3.8.8"
  }
 },
 "nbformat": 4,
 "nbformat_minor": 5
}
